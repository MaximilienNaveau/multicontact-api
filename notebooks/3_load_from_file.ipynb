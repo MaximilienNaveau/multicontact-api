{
 "cells": [
  {
   "cell_type": "markdown",
   "metadata": {},
   "source": [
    "# Introduction\n",
    "In this notebook, we will load serialized ContactSequence files from the \"examples\" directory. See the Readme file of this directory for more information about this files: https://github.com/loco-3d/multicontact-api/tree/master/examples\n",
    "\n",
    "First we will plot various data stored in the file like CoM trajectory or contact placement, then we will visualize the wholebody motion."
   ]
  },
  {
   "cell_type": "markdown",
   "metadata": {},
   "source": [
    "## Displaying a joint trajectory\n",
    "\n",
    "For this section you will need two additionnal depencies: the simplifed Talos model and the Meshcat 3D visualizer:\n",
    "\n",
    "* install the binary package `robotpkg-py3\\*-example-robot-data` (see http://robotpkg.openrobots.org/robotpkg-wip.html if you haven't configured robotpkg on your system yet\n",
    "* `pip3 install --user meshcat`\n",
    "\n",
    "First, let's load the contact sequence from the file. Feel free to change the name of the file loaded to any of the files in the example folder, but be sure to use the `_WB` suffix: the other files do not store joint trajectories."
   ]
  },
  {
   "cell_type": "code",
   "execution_count": 2,
   "metadata": {},
   "outputs": [
    {
     "name": "stdout",
     "output_type": "stream",
     "text": [
      "Number of contact phases:  23\n",
      "Duration of the motion:  35.00000000000026\n"
     ]
    }
   ],
   "source": [
    "from multicontact_api import ContactSequence\n",
    "cs = ContactSequence()\n",
    "cs.loadFromBinary(\"../examples/walk_20cm_WB.cs\")\n",
    "\n",
    "print(\"Number of contact phases: \", cs.size())\n",
    "print(\"Duration of the motion: \", cs.contactPhases[-1].timeFinal)"
   ]
  },
  {
   "cell_type": "markdown",
   "metadata": {},
   "source": [
    "Then let's load the robot model in Pinocchio and initialize the viewer:"
   ]
  },
  {
   "cell_type": "code",
   "execution_count": 6,
   "metadata": {},
   "outputs": [
    {
     "name": "stdout",
     "output_type": "stream",
     "text": [
      "You can open the visualizer by visiting the following URL:\n",
      "http://127.0.0.1:7001/static/\n"
     ]
    }
   ],
   "source": [
    "from ipywidgets import interact\n",
    "from example_robot_data import load\n",
    "from pinocchio.visualize import MeshcatVisualizer\n",
    "\n",
    "robot = load('talos')\n",
    "viz = MeshcatVisualizer(robot.model, robot.collision_model, robot.visual_model)\n",
    "viz.initViewer(loadModel=True)\n",
    "viz.viewer.jupyter_cell()\n",
    "\n",
    "q0 = robot.q0\n",
    "viz.display(q0)"
   ]
  },
  {
   "cell_type": "markdown",
   "metadata": {},
   "source": [
    "After the initialization you should get a link to open meshcat in your browser, and you should see Talos standing in it's reference configuration. \n",
    "\n",
    "Now we are simply going to retrieve the complete joint trajectory from the file (see the previous section), discretize it and send the configurations to the viewer."
   ]
  },
  {
   "cell_type": "code",
   "execution_count": 8,
   "metadata": {},
   "outputs": [],
   "source": [
    "import curves\n",
    "\n",
    "# concatenate the joint trajectories of each phases in a single curve object\n",
    "q_t = cs.concatenateQtrajectories()\n",
    "DT = 0.04 # 25 FPS\n",
    "\n",
    "t = 0.\n",
    "t_end = q_t.max()\n",
    "\n",
    "while t <= t_end:\n",
    "    viz.display(q_t(t))\n",
    "    t += DT\n",
    "\n"
   ]
  }
 ],
 "metadata": {
  "kernelspec": {
   "display_name": "Python 3",
   "language": "python",
   "name": "python3"
  },
  "language_info": {
   "codemirror_mode": {
    "name": "ipython",
    "version": 3
   },
   "file_extension": ".py",
   "mimetype": "text/x-python",
   "name": "python",
   "nbconvert_exporter": "python",
   "pygments_lexer": "ipython3",
   "version": "3.5.2"
  }
 },
 "nbformat": 4,
 "nbformat_minor": 4
}
